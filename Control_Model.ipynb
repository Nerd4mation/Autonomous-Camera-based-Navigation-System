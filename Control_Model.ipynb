{
 "cells": [
  {
   "cell_type": "code",
   "execution_count": 1,
   "metadata": {},
   "outputs": [],
   "source": [
    "import os\n",
    "import shutil\n",
    "import cv2\n",
    "import numpy as np\n",
    "import matplotlib.pyplot as plt\n",
    "import tensorflow as tf\n",
    "import sklearn\n",
    "from sklearn.model_selection import train_test_split\n",
    "from sklearn.utils import shuffle\n",
    "from tensorflow.keras.callbacks import TensorBoard\n",
    "import time\n",
    "from tensorflow.keras import backend as K\n",
    "\n",
    "data_path = r\"D:\\Hackathon\\Carla\\Windows\\CarlaBuild\\Behavioural_cloning\\train\"\n",
    "data_dir_list = os.listdir(data_path)\n",
    "os.chdir(data_path)\n",
    "\n",
    "img_rows = 224\n",
    "img_cols = 224\n",
    "num_channel = 3"
   ]
  },
  {
   "cell_type": "code",
   "execution_count": 2,
   "metadata": {},
   "outputs": [],
   "source": [
    "NAME = \"Test1-{}\".format(int(time.time()))\n",
    "tensorboard = TensorBoard(log_dir='logs/{}'.format(NAME), write_images = True)"
   ]
  },
  {
   "cell_type": "code",
   "execution_count": 3,
   "metadata": {},
   "outputs": [],
   "source": [
    "#LOADING DATA\n",
    "img_data = np.load('images.npy')\n",
    "labels = np.load('labels.npy')"
   ]
  },
  {
   "cell_type": "code",
   "execution_count": 4,
   "metadata": {},
   "outputs": [
    {
     "name": "stdout",
     "output_type": "stream",
     "text": [
      "(15007, 224, 224, 3)\n"
     ]
    }
   ],
   "source": [
    "print(img_data.shape)"
   ]
  },
  {
   "cell_type": "code",
   "execution_count": 5,
   "metadata": {},
   "outputs": [
    {
     "name": "stdout",
     "output_type": "stream",
     "text": [
      "(224, 224, 3)\n"
     ]
    },
    {
     "data": {
      "text/plain": [
       "<matplotlib.image.AxesImage at 0x26b988224a8>"
      ]
     },
     "execution_count": 5,
     "metadata": {},
     "output_type": "execute_result"
    },
    {
     "data": {
      "image/png": "[encoded data removed]",
      "text/plain": [
       "<Figure size 432x288 with 1 Axes>"
      ]
     },
     "metadata": {
      "needs_background": "light"
     },
     "output_type": "display_data"
    }
   ],
   "source": [
    "# PLOT A SINGLE IMAGE\n",
    "print(img_data[1].shape)\n",
    "plt.imshow(img_data[1])"
   ]
  },
  {
   "cell_type": "code",
   "execution_count": 6,
   "metadata": {},
   "outputs": [
    {
     "name": "stdout",
     "output_type": "stream",
     "text": [
      "['0.60' '0.105042' '0']\n"
     ]
    }
   ],
   "source": [
    "print(labels[1])"
   ]
  },
  {
   "cell_type": "code",
   "execution_count": 7,
   "metadata": {},
   "outputs": [],
   "source": [
    "x, y = shuffle(img_data, labels, random_state = 65168)"
   ]
  },
  {
   "cell_type": "code",
   "execution_count": 8,
   "metadata": {},
   "outputs": [
    {
     "name": "stdout",
     "output_type": "stream",
     "text": [
      "['0.60' '0.016007' '0']\n"
     ]
    }
   ],
   "source": [
    "print(y[1])"
   ]
  },
  {
   "cell_type": "code",
   "execution_count": 9,
   "metadata": {},
   "outputs": [],
   "source": [
    "x_train, x_test, y_train, y_test = train_test_split(x, y, test_size = 0.1, random_state = 42)"
   ]
  },
  {
   "cell_type": "code",
   "execution_count": 10,
   "metadata": {},
   "outputs": [
    {
     "name": "stdout",
     "output_type": "stream",
     "text": [
      "(224, 224, 3)\n"
     ]
    }
   ],
   "source": [
    "input_shape = img_data[0].shape\n",
    "print(input_shape)"
   ]
  },
  {
   "cell_type": "code",
   "execution_count": 11,
   "metadata": {},
   "outputs": [],
   "source": [
    "def throttle_mse(y_true, y_pred):\n",
    "    return K.mean(K.square(y_true[:,0] - y_pred[:,0]), axis = -1)\n",
    "    \n",
    "def steer_mse(y_true, y_pred):\n",
    "    return K.mean(K.square(y_true[:,1] - y_pred[:,1]), axis = -1)\n",
    "\n",
    "def brake_mse(y_true, y_pred):\n",
    "    return K.mean(K.square(y_true[:,2] - y_pred[:,2]), axis = -1)"
   ]
  },
  {
   "cell_type": "code",
   "execution_count": 16,
   "metadata": {},
   "outputs": [],
   "source": [
    "K.clear_session()"
   ]
  },
  {
   "cell_type": "code",
   "execution_count": 17,
   "metadata": {},
   "outputs": [
    {
     "name": "stdout",
     "output_type": "stream",
     "text": [
      "_________________________________________________________________\n",
      "Layer (type)                 Output Shape              Param #   \n",
      "=================================================================\n",
      "conv2d (Conv2D)              (None, 222, 222, 64)      1792      \n",
      "_________________________________________________________________\n",
      "conv2d_1 (Conv2D)            (None, 220, 220, 64)      36928     \n",
      "_________________________________________________________________\n",
      "max_pooling2d (MaxPooling2D) (None, 110, 110, 64)      0         \n",
      "_________________________________________________________________\n",
      "conv2d_2 (Conv2D)            (None, 108, 108, 128)     73856     \n",
      "_________________________________________________________________\n",
      "max_pooling2d_1 (MaxPooling2 (None, 54, 54, 128)       0         \n",
      "_________________________________________________________________\n",
      "conv2d_3 (Conv2D)            (None, 52, 52, 128)       147584    \n",
      "_________________________________________________________________\n",
      "max_pooling2d_2 (MaxPooling2 (None, 26, 26, 128)       0         \n",
      "_________________________________________________________________\n",
      "conv2d_4 (Conv2D)            (None, 24, 24, 256)       295168    \n",
      "_________________________________________________________________\n",
      "max_pooling2d_3 (MaxPooling2 (None, 12, 12, 256)       0         \n",
      "_________________________________________________________________\n",
      "conv2d_5 (Conv2D)            (None, 10, 10, 256)       590080    \n",
      "_________________________________________________________________\n",
      "max_pooling2d_4 (MaxPooling2 (None, 5, 5, 256)         0         \n",
      "_________________________________________________________________\n",
      "conv2d_6 (Conv2D)            (None, 3, 3, 256)         590080    \n",
      "_________________________________________________________________\n",
      "flatten (Flatten)            (None, 2304)              0         \n",
      "_________________________________________________________________\n",
      "dense (Dense)                (None, 256)               590080    \n",
      "_________________________________________________________________\n",
      "dropout (Dropout)            (None, 256)               0         \n",
      "_________________________________________________________________\n",
      "dense_1 (Dense)              (None, 3)                 771       \n",
      "=================================================================\n",
      "Total params: 2,326,339\n",
      "Trainable params: 2,326,339\n",
      "Non-trainable params: 0\n",
      "_________________________________________________________________\n"
     ]
    }
   ],
   "source": [
    "# Defining the model\n",
    "model = tf.keras.Sequential()\n",
    "\n",
    "model.add(tf.keras.layers.Conv2D(filters = 64, kernel_size=(3 ,3), input_shape = input_shape, activation = \"relu\"))\n",
    "model.add(tf.keras.layers.Conv2D(filters = 64, kernel_size=(3 ,3), activation = \"relu\"))\n",
    "model.add(tf.keras.layers.MaxPooling2D(pool_size = (2,2)))\n",
    "\n",
    "model.add(tf.keras.layers.Conv2D(filters = 128, kernel_size=(3,3), activation = \"relu\"))\n",
    "model.add(tf.keras.layers.MaxPooling2D(pool_size = (2,2)))\n",
    "model.add(tf.keras.layers.Conv2D(filters = 128, kernel_size=(3,3), activation = \"relu\"))\n",
    "model.add(tf.keras.layers.MaxPooling2D(pool_size = (2,2)))\n",
    "\n",
    "model.add(tf.keras.layers.Conv2D(filters = 256, kernel_size=(3,3), activation = \"relu\"))\n",
    "model.add(tf.keras.layers.MaxPooling2D(pool_size = (2,2)))\n",
    "model.add(tf.keras.layers.Conv2D(filters = 256, kernel_size=(3,3), activation = \"relu\"))\n",
    "model.add(tf.keras.layers.MaxPooling2D(pool_size = (2,2)))\n",
    "model.add(tf.keras.layers.Conv2D(filters = 256, kernel_size=(3,3), activation = \"relu\"))\n",
    "\n",
    "model.add(tf.keras.layers.Flatten())\n",
    "\n",
    "model.add(tf.keras.layers.Dense(256, activation = \"relu\" ))\n",
    "model.add(tf.keras.layers.Dropout(0.5))\n",
    "\n",
    "model.add(tf.keras.layers.Dense(3))\n",
    "          \n",
    "model.summary()\n",
    "\n",
    "model.compile(loss = 'mse', optimizer = tf.keras.optimizers.Adam(lr = 0.0005), metrics = [throttle_mse, steer_mse, brake_mse])"
   ]
  },
  {
   "cell_type": "code",
   "execution_count": 18,
   "metadata": {},
   "outputs": [],
   "source": [
    "filepath = r\"D:\\Hackathon\\Carla\\Windows\\CarlaBuild\\Behavioural_cloning\\models\\lowlossmodel\"\n",
    "checkpoint = tf.keras.callbacks.ModelCheckpoint(filepath, monitor = 'val_loss', verbose = 0, save_best_only = True, mode = 'min', save_weights_only = False)\n",
    "reduce_lr = tf.keras.callbacks.ReduceLROnPlateau(monitor = 'loss', verbose = 1, factor = 0.5, cooldown = 5, patience = 10, min_lr = 0.000005)"
   ]
  },
  {
   "cell_type": "code",
   "execution_count": 19,
   "metadata": {
    "scrolled": true
   },
   "outputs": [
    {
     "name": "stdout",
     "output_type": "stream",
     "text": [
      "Train on 12155 samples, validate on 1351 samples\n",
      "Epoch 1/500\n",
      "12155/12155 [==============================] - 79s 7ms/step - loss: 0.0301 - throttle_mse: 0.0231 - steer_mse: 0.0258 - brake_mse: 0.0415 - val_loss: 0.0128 - val_throttle_mse: 0.0045 - val_steer_mse: 0.0228 - val_brake_mse: 0.0112\n",
      "Epoch 2/500\n",
      "12155/12155 [==============================] - 80s 7ms/step - loss: 0.0170 - throttle_mse: 0.0101 - steer_mse: 0.0220 - brake_mse: 0.0189 - val_loss: 0.0119 - val_throttle_mse: 0.0078 - val_steer_mse: 0.0186 - val_brake_mse: 0.0093\n",
      "Epoch 3/500\n",
      "12155/12155 [==============================] - 79s 7ms/step - loss: 0.0134 - throttle_mse: 0.0087 - steer_mse: 0.0158 - brake_mse: 0.0159 - val_loss: 0.0084 - val_throttle_mse: 0.0035 - val_steer_mse: 0.0128 - val_brake_mse: 0.0089\n",
      "Epoch 4/500\n",
      "12155/12155 [==============================] - 79s 6ms/step - loss: 0.0115 - throttle_mse: 0.0082 - steer_mse: 0.0113 - brake_mse: 0.0151 - val_loss: 0.0094 - val_throttle_mse: 0.0032 - val_steer_mse: 0.0116 - val_brake_mse: 0.0136\n",
      "Epoch 5/500\n",
      "12155/12155 [==============================] - 79s 6ms/step - loss: 0.0102 - throttle_mse: 0.0073 - steer_mse: 0.0098 - brake_mse: 0.0135 - val_loss: 0.0073 - val_throttle_mse: 0.0037 - val_steer_mse: 0.0096 - val_brake_mse: 0.0088\n",
      "Epoch 6/500\n",
      "12155/12155 [==============================] - 80s 7ms/step - loss: 0.0091 - throttle_mse: 0.0066 - steer_mse: 0.0087 - brake_mse: 0.0119 - val_loss: 0.0074 - val_throttle_mse: 0.0034 - val_steer_mse: 0.0101 - val_brake_mse: 0.0087\n",
      "Epoch 7/500\n",
      "12155/12155 [==============================] - 79s 7ms/step - loss: 0.0082 - throttle_mse: 0.0060 - steer_mse: 0.0081 - brake_mse: 0.0105 - val_loss: 0.0067 - val_throttle_mse: 0.0036 - val_steer_mse: 0.0090 - val_brake_mse: 0.0077\n",
      "Epoch 8/500\n",
      "12155/12155 [==============================] - 79s 7ms/step - loss: 0.0076 - throttle_mse: 0.0055 - steer_mse: 0.0077 - brake_mse: 0.0096 - val_loss: 0.0065 - val_throttle_mse: 0.0034 - val_steer_mse: 0.0084 - val_brake_mse: 0.0077\n",
      "Epoch 9/500\n",
      "12155/12155 [==============================] - 79s 6ms/step - loss: 0.0071 - throttle_mse: 0.0050 - steer_mse: 0.0069 - brake_mse: 0.0092 - val_loss: 0.0072 - val_throttle_mse: 0.0033 - val_steer_mse: 0.0101 - val_brake_mse: 0.0082\n",
      "Epoch 10/500\n",
      "12155/12155 [==============================] - 79s 7ms/step - loss: 0.0065 - throttle_mse: 0.0047 - steer_mse: 0.0066 - brake_mse: 0.0083 - val_loss: 0.0065 - val_throttle_mse: 0.0032 - val_steer_mse: 0.0081 - val_brake_mse: 0.0081\n",
      "Epoch 11/500\n",
      "12155/12155 [==============================] - 79s 7ms/step - loss: 0.0062 - throttle_mse: 0.0044 - steer_mse: 0.0061 - brake_mse: 0.0080 - val_loss: 0.0051 - val_throttle_mse: 0.0023 - val_steer_mse: 0.0071 - val_brake_mse: 0.0059\n",
      "Epoch 12/500\n",
      "12155/12155 [==============================] - 79s 6ms/step - loss: 0.0057 - throttle_mse: 0.0039 - steer_mse: 0.0060 - brake_mse: 0.0073 - val_loss: 0.0054 - val_throttle_mse: 0.0026 - val_steer_mse: 0.0072 - val_brake_mse: 0.0063\n",
      "Epoch 13/500\n",
      "12155/12155 [==============================] - 79s 7ms/step - loss: 0.0053 - throttle_mse: 0.0036 - steer_mse: 0.0055 - brake_mse: 0.0068 - val_loss: 0.0060 - val_throttle_mse: 0.0027 - val_steer_mse: 0.0073 - val_brake_mse: 0.0079\n",
      "Epoch 14/500\n",
      "12155/12155 [==============================] - 79s 7ms/step - loss: 0.0051 - throttle_mse: 0.0034 - steer_mse: 0.0054 - brake_mse: 0.0066 - val_loss: 0.0059 - val_throttle_mse: 0.0031 - val_steer_mse: 0.0070 - val_brake_mse: 0.0077\n",
      "Epoch 15/500\n",
      "12155/12155 [==============================] - 79s 7ms/step - loss: 0.0047 - throttle_mse: 0.0033 - steer_mse: 0.0045 - brake_mse: 0.0063 - val_loss: 0.0055 - val_throttle_mse: 0.0028 - val_steer_mse: 0.0065 - val_brake_mse: 0.0071\n",
      "Epoch 16/500\n",
      "12155/12155 [==============================] - 79s 6ms/step - loss: 0.0047 - throttle_mse: 0.0031 - steer_mse: 0.0046 - brake_mse: 0.0065 - val_loss: 0.0063 - val_throttle_mse: 0.0031 - val_steer_mse: 0.0075 - val_brake_mse: 0.0082\n",
      "Epoch 17/500\n",
      "12155/12155 [==============================] - 79s 6ms/step - loss: 0.0041 - throttle_mse: 0.0027 - steer_mse: 0.0043 - brake_mse: 0.0054 - val_loss: 0.0058 - val_throttle_mse: 0.0031 - val_steer_mse: 0.0064 - val_brake_mse: 0.0078\n",
      "Epoch 18/500\n",
      "12155/12155 [==============================] - 79s 6ms/step - loss: 0.0041 - throttle_mse: 0.0027 - steer_mse: 0.0041 - brake_mse: 0.0056 - val_loss: 0.0061 - val_throttle_mse: 0.0029 - val_steer_mse: 0.0078 - val_brake_mse: 0.0075\n",
      "Epoch 19/500\n",
      "12155/12155 [==============================] - 79s 7ms/step - loss: 0.0038 - throttle_mse: 0.0024 - steer_mse: 0.0041 - brake_mse: 0.0050 - val_loss: 0.0049 - val_throttle_mse: 0.0025 - val_steer_mse: 0.0059 - val_brake_mse: 0.0063\n",
      "Epoch 20/500\n",
      "12155/12155 [==============================] - 79s 7ms/step - loss: 0.0035 - throttle_mse: 0.0023 - steer_mse: 0.0034 - brake_mse: 0.0047 - val_loss: 0.0060 - val_throttle_mse: 0.0033 - val_steer_mse: 0.0057 - val_brake_mse: 0.0091\n",
      "Epoch 21/500\n",
      "12155/12155 [==============================] - 79s 6ms/step - loss: 0.0034 - throttle_mse: 0.0022 - steer_mse: 0.0032 - brake_mse: 0.0048 - val_loss: 0.0056 - val_throttle_mse: 0.0027 - val_steer_mse: 0.0068 - val_brake_mse: 0.0074\n",
      "Epoch 22/500\n",
      "12155/12155 [==============================] - 79s 6ms/step - loss: 0.0038 - throttle_mse: 0.0023 - steer_mse: 0.0037 - brake_mse: 0.0054 - val_loss: 0.0050 - val_throttle_mse: 0.0027 - val_steer_mse: 0.0051 - val_brake_mse: 0.0073\n",
      "Epoch 23/500\n",
      "12155/12155 [==============================] - 79s 6ms/step - loss: 0.0035 - throttle_mse: 0.0021 - steer_mse: 0.0037 - brake_mse: 0.0048 - val_loss: 0.0057 - val_throttle_mse: 0.0028 - val_steer_mse: 0.0066 - val_brake_mse: 0.0077\n",
      "Epoch 24/500\n",
      "12155/12155 [==============================] - 84s 7ms/step - loss: 0.0030 - throttle_mse: 0.0019 - steer_mse: 0.0029 - brake_mse: 0.0041 - val_loss: 0.0053 - val_throttle_mse: 0.0026 - val_steer_mse: 0.0063 - val_brake_mse: 0.0071\n",
      "Epoch 25/500\n",
      "12155/12155 [==============================] - 88s 7ms/step - loss: 0.0029 - throttle_mse: 0.0019 - steer_mse: 0.0027 - brake_mse: 0.0042 - val_loss: 0.0052 - val_throttle_mse: 0.0024 - val_steer_mse: 0.0060 - val_brake_mse: 0.0072\n",
      "Epoch 26/500\n",
      "12155/12155 [==============================] - 78s 6ms/step - loss: 0.0029 - throttle_mse: 0.0018 - steer_mse: 0.0028 - brake_mse: 0.0041 - val_loss: 0.0054 - val_throttle_mse: 0.0028 - val_steer_mse: 0.0057 - val_brake_mse: 0.0077\n",
      "Epoch 27/500\n",
      "12155/12155 [==============================] - 79s 6ms/step - loss: 0.0031 - throttle_mse: 0.0019 - steer_mse: 0.0028 - brake_mse: 0.0046 - val_loss: 0.0052 - val_throttle_mse: 0.0026 - val_steer_mse: 0.0061 - val_brake_mse: 0.0070\n",
      "Epoch 28/500\n",
      "12155/12155 [==============================] - 79s 6ms/step - loss: 0.0031 - throttle_mse: 0.0019 - steer_mse: 0.0028 - brake_mse: 0.0047 - val_loss: 0.0055 - val_throttle_mse: 0.0025 - val_steer_mse: 0.0068 - val_brake_mse: 0.0072\n",
      "Epoch 29/500\n",
      "12155/12155 [==============================] - 120s 10ms/step - loss: 0.0040 - throttle_mse: 0.0025 - steer_mse: 0.0031 - brake_mse: 0.0063 - val_loss: 0.0054 - val_throttle_mse: 0.0027 - val_steer_mse: 0.0062 - val_brake_mse: 0.0073\n",
      "Epoch 30/500\n",
      "12155/12155 [==============================] - 78s 6ms/step - loss: 0.0029 - throttle_mse: 0.0018 - steer_mse: 0.0027 - brake_mse: 0.0042 - val_loss: 0.0057 - val_throttle_mse: 0.0027 - val_steer_mse: 0.0066 - val_brake_mse: 0.0077\n",
      "Epoch 31/500\n",
      "12155/12155 [==============================] - 79s 6ms/step - loss: 0.0030 - throttle_mse: 0.0018 - steer_mse: 0.0029 - brake_mse: 0.0045 - val_loss: 0.0057 - val_throttle_mse: 0.0027 - val_steer_mse: 0.0068 - val_brake_mse: 0.0076\n",
      "Epoch 32/500\n",
      "12155/12155 [==============================] - 79s 6ms/step - loss: 0.0029 - throttle_mse: 0.0017 - steer_mse: 0.0027 - brake_mse: 0.0043 - val_loss: 0.0060 - val_throttle_mse: 0.0031 - val_steer_mse: 0.0061 - val_brake_mse: 0.0089\n",
      "Epoch 33/500\n",
      "12155/12155 [==============================] - 79s 6ms/step - loss: 0.0028 - throttle_mse: 0.0017 - steer_mse: 0.0024 - brake_mse: 0.0041 - val_loss: 0.0058 - val_throttle_mse: 0.0030 - val_steer_mse: 0.0062 - val_brake_mse: 0.0081\n",
      "Epoch 34/500\n"
     ]
    },
    {
     "name": "stdout",
     "output_type": "stream",
     "text": [
      "12155/12155 [==============================] - 79s 6ms/step - loss: 0.0027 - throttle_mse: 0.0017 - steer_mse: 0.0025 - brake_mse: 0.0040 - val_loss: 0.0056 - val_throttle_mse: 0.0029 - val_steer_mse: 0.0057 - val_brake_mse: 0.0083\n",
      "Epoch 35/500\n",
      "12155/12155 [==============================] - 78s 6ms/step - loss: 0.0024 - throttle_mse: 0.0015 - steer_mse: 0.0022 - brake_mse: 0.0036 - val_loss: 0.0057 - val_throttle_mse: 0.0028 - val_steer_mse: 0.0063 - val_brake_mse: 0.0078\n",
      "Epoch 36/500\n",
      "12155/12155 [==============================] - 78s 6ms/step - loss: 0.0022 - throttle_mse: 0.0014 - steer_mse: 0.0018 - brake_mse: 0.0034 - val_loss: 0.0055 - val_throttle_mse: 0.0026 - val_steer_mse: 0.0061 - val_brake_mse: 0.0077\n",
      "Epoch 37/500\n",
      "12155/12155 [==============================] - 79s 6ms/step - loss: 0.0023 - throttle_mse: 0.0014 - steer_mse: 0.0021 - brake_mse: 0.0033 - val_loss: 0.0053 - val_throttle_mse: 0.0026 - val_steer_mse: 0.0056 - val_brake_mse: 0.0076\n",
      "Epoch 38/500\n",
      "12155/12155 [==============================] - 79s 6ms/step - loss: 0.0021 - throttle_mse: 0.0014 - steer_mse: 0.0018 - brake_mse: 0.0032 - val_loss: 0.0047 - val_throttle_mse: 0.0021 - val_steer_mse: 0.0058 - val_brake_mse: 0.0062\n",
      "Epoch 39/500\n",
      "12155/12155 [==============================] - 79s 6ms/step - loss: 0.0020 - throttle_mse: 0.0013 - steer_mse: 0.0017 - brake_mse: 0.0031 - val_loss: 0.0049 - val_throttle_mse: 0.0024 - val_steer_mse: 0.0053 - val_brake_mse: 0.0071\n",
      "Epoch 40/500\n",
      "12155/12155 [==============================] - 79s 6ms/step - loss: 0.0028 - throttle_mse: 0.0017 - steer_mse: 0.0021 - brake_mse: 0.0045 - val_loss: 0.0058 - val_throttle_mse: 0.0026 - val_steer_mse: 0.0070 - val_brake_mse: 0.0078\n",
      "Epoch 41/500\n",
      "12155/12155 [==============================] - 79s 6ms/step - loss: 0.0028 - throttle_mse: 0.0017 - steer_mse: 0.0023 - brake_mse: 0.0043 - val_loss: 0.0053 - val_throttle_mse: 0.0026 - val_steer_mse: 0.0058 - val_brake_mse: 0.0074\n",
      "Epoch 42/500\n",
      "12155/12155 [==============================] - 79s 7ms/step - loss: 0.0023 - throttle_mse: 0.0014 - steer_mse: 0.0019 - brake_mse: 0.0035 - val_loss: 0.0053 - val_throttle_mse: 0.0026 - val_steer_mse: 0.0058 - val_brake_mse: 0.0075\n",
      "Epoch 43/500\n",
      "12155/12155 [==============================] - 79s 6ms/step - loss: 0.0022 - throttle_mse: 0.0014 - steer_mse: 0.0018 - brake_mse: 0.0035 - val_loss: 0.0052 - val_throttle_mse: 0.0025 - val_steer_mse: 0.0061 - val_brake_mse: 0.0070\n",
      "Epoch 44/500\n",
      "12155/12155 [==============================] - 79s 6ms/step - loss: 0.0023 - throttle_mse: 0.0014 - steer_mse: 0.0020 - brake_mse: 0.0034 - val_loss: 0.0057 - val_throttle_mse: 0.0028 - val_steer_mse: 0.0064 - val_brake_mse: 0.0080\n",
      "Epoch 45/500\n",
      "12155/12155 [==============================] - 78s 6ms/step - loss: 0.0021 - throttle_mse: 0.0013 - steer_mse: 0.0019 - brake_mse: 0.0030 - val_loss: 0.0058 - val_throttle_mse: 0.0027 - val_steer_mse: 0.0067 - val_brake_mse: 0.0079\n",
      "Epoch 46/500\n",
      "12155/12155 [==============================] - 78s 6ms/step - loss: 0.0021 - throttle_mse: 0.0013 - steer_mse: 0.0018 - brake_mse: 0.0032 - val_loss: 0.0054 - val_throttle_mse: 0.0026 - val_steer_mse: 0.0062 - val_brake_mse: 0.0073\n",
      "Epoch 47/500\n",
      "12155/12155 [==============================] - 78s 6ms/step - loss: 0.0021 - throttle_mse: 0.0014 - steer_mse: 0.0018 - brake_mse: 0.0032 - val_loss: 0.0054 - val_throttle_mse: 0.0026 - val_steer_mse: 0.0061 - val_brake_mse: 0.0075\n",
      "Epoch 48/500\n",
      "12155/12155 [==============================] - 78s 6ms/step - loss: 0.0020 - throttle_mse: 0.0014 - steer_mse: 0.0017 - brake_mse: 0.0031 - val_loss: 0.0055 - val_throttle_mse: 0.0027 - val_steer_mse: 0.0061 - val_brake_mse: 0.0075\n",
      "Epoch 49/500\n",
      "12155/12155 [==============================] - 78s 6ms/step - loss: 0.0020 - throttle_mse: 0.0013 - steer_mse: 0.0016 - brake_mse: 0.0031 - val_loss: 0.0055 - val_throttle_mse: 0.0028 - val_steer_mse: 0.0056 - val_brake_mse: 0.0081\n",
      "\n",
      "Epoch 00049: ReduceLROnPlateau reducing learning rate to 0.0002500000118743628.\n",
      "Epoch 50/500\n",
      "12155/12155 [==============================] - 78s 6ms/step - loss: 0.0019 - throttle_mse: 0.0013 - steer_mse: 0.0017 - brake_mse: 0.0029 - val_loss: 0.0053 - val_throttle_mse: 0.0027 - val_steer_mse: 0.0054 - val_brake_mse: 0.0077\n",
      "Epoch 51/500\n",
      "12155/12155 [==============================] - 78s 6ms/step - loss: 0.0019 - throttle_mse: 0.0012 - steer_mse: 0.0014 - brake_mse: 0.0029 - val_loss: 0.0053 - val_throttle_mse: 0.0027 - val_steer_mse: 0.0054 - val_brake_mse: 0.0079\n",
      "Epoch 52/500\n",
      "12155/12155 [==============================] - 78s 6ms/step - loss: 0.0019 - throttle_mse: 0.0013 - steer_mse: 0.0013 - brake_mse: 0.0030 - val_loss: 0.0053 - val_throttle_mse: 0.0027 - val_steer_mse: 0.0056 - val_brake_mse: 0.0077\n",
      "Epoch 53/500\n",
      "12155/12155 [==============================] - 78s 6ms/step - loss: 0.0019 - throttle_mse: 0.0013 - steer_mse: 0.0014 - brake_mse: 0.0031 - val_loss: 0.0053 - val_throttle_mse: 0.0026 - val_steer_mse: 0.0058 - val_brake_mse: 0.0076\n",
      "Epoch 54/500\n",
      "12155/12155 [==============================] - 79s 6ms/step - loss: 0.0018 - throttle_mse: 0.0012 - steer_mse: 0.0014 - brake_mse: 0.0029 - val_loss: 0.0052 - val_throttle_mse: 0.0026 - val_steer_mse: 0.0057 - val_brake_mse: 0.0074\n",
      "Epoch 55/500\n",
      " 4736/12155 [==========>...................] - ETA: 45s - loss: 0.0018 - throttle_mse: 0.0012 - steer_mse: 0.0014 - brake_mse: 0.0028"
     ]
    },
    {
     "ename": "KeyboardInterrupt",
     "evalue": "",
     "output_type": "error",
     "traceback": [
      "\u001b[1;31m---------------------------------------------------------------------------\u001b[0m",
      "\u001b[1;31mKeyboardInterrupt\u001b[0m                         Traceback (most recent call last)",
      "\u001b[1;32m<ipython-input-19-8f34ac5442b3>\u001b[0m in \u001b[0;36m<module>\u001b[1;34m\u001b[0m\n\u001b[1;32m----> 1\u001b[1;33m \u001b[0mhist\u001b[0m \u001b[1;33m=\u001b[0m \u001b[0mmodel\u001b[0m\u001b[1;33m.\u001b[0m\u001b[0mfit\u001b[0m\u001b[1;33m(\u001b[0m\u001b[0mx_train\u001b[0m\u001b[1;33m,\u001b[0m \u001b[0my_train\u001b[0m\u001b[1;33m,\u001b[0m \u001b[0mbatch_size\u001b[0m \u001b[1;33m=\u001b[0m \u001b[1;36m64\u001b[0m\u001b[1;33m,\u001b[0m \u001b[0mepochs\u001b[0m \u001b[1;33m=\u001b[0m \u001b[1;36m500\u001b[0m\u001b[1;33m,\u001b[0m \u001b[0mvalidation_split\u001b[0m \u001b[1;33m=\u001b[0m \u001b[1;36m0.1\u001b[0m\u001b[1;33m,\u001b[0m \u001b[0mshuffle\u001b[0m \u001b[1;33m=\u001b[0m \u001b[1;32mTrue\u001b[0m\u001b[1;33m,\u001b[0m \u001b[0mcallbacks\u001b[0m \u001b[1;33m=\u001b[0m \u001b[1;33m[\u001b[0m\u001b[0mcheckpoint\u001b[0m\u001b[1;33m,\u001b[0m \u001b[0mtensorboard\u001b[0m\u001b[1;33m,\u001b[0m \u001b[0mreduce_lr\u001b[0m\u001b[1;33m]\u001b[0m\u001b[1;33m)\u001b[0m\u001b[1;33m\u001b[0m\u001b[0m\n\u001b[0m",
      "\u001b[1;32mc:\\users\\ewaisha\\appdata\\local\\programs\\python\\python36\\lib\\site-packages\\tensorflow\\python\\keras\\engine\\training.py\u001b[0m in \u001b[0;36mfit\u001b[1;34m(self, x, y, batch_size, epochs, verbose, callbacks, validation_split, validation_data, shuffle, class_weight, sample_weight, initial_epoch, steps_per_epoch, validation_steps, **kwargs)\u001b[0m\n\u001b[0;32m   1361\u001b[0m           \u001b[0minitial_epoch\u001b[0m\u001b[1;33m=\u001b[0m\u001b[0minitial_epoch\u001b[0m\u001b[1;33m,\u001b[0m\u001b[1;33m\u001b[0m\u001b[0m\n\u001b[0;32m   1362\u001b[0m           \u001b[0msteps_per_epoch\u001b[0m\u001b[1;33m=\u001b[0m\u001b[0msteps_per_epoch\u001b[0m\u001b[1;33m,\u001b[0m\u001b[1;33m\u001b[0m\u001b[0m\n\u001b[1;32m-> 1363\u001b[1;33m           validation_steps=validation_steps)\n\u001b[0m\u001b[0;32m   1364\u001b[0m \u001b[1;33m\u001b[0m\u001b[0m\n\u001b[0;32m   1365\u001b[0m   def evaluate(self,\n",
      "\u001b[1;32mc:\\users\\ewaisha\\appdata\\local\\programs\\python\\python36\\lib\\site-packages\\tensorflow\\python\\keras\\engine\\training_arrays.py\u001b[0m in \u001b[0;36mfit_loop\u001b[1;34m(model, inputs, targets, sample_weights, batch_size, epochs, verbose, callbacks, val_inputs, val_targets, val_sample_weights, shuffle, callback_metrics, initial_epoch, steps_per_epoch, validation_steps)\u001b[0m\n\u001b[0;32m    262\u001b[0m           \u001b[0mins_batch\u001b[0m\u001b[1;33m[\u001b[0m\u001b[0mi\u001b[0m\u001b[1;33m]\u001b[0m \u001b[1;33m=\u001b[0m \u001b[0mins_batch\u001b[0m\u001b[1;33m[\u001b[0m\u001b[0mi\u001b[0m\u001b[1;33m]\u001b[0m\u001b[1;33m.\u001b[0m\u001b[0mtoarray\u001b[0m\u001b[1;33m(\u001b[0m\u001b[1;33m)\u001b[0m\u001b[1;33m\u001b[0m\u001b[0m\n\u001b[0;32m    263\u001b[0m \u001b[1;33m\u001b[0m\u001b[0m\n\u001b[1;32m--> 264\u001b[1;33m         \u001b[0mouts\u001b[0m \u001b[1;33m=\u001b[0m \u001b[0mf\u001b[0m\u001b[1;33m(\u001b[0m\u001b[0mins_batch\u001b[0m\u001b[1;33m)\u001b[0m\u001b[1;33m\u001b[0m\u001b[0m\n\u001b[0m\u001b[0;32m    265\u001b[0m         \u001b[1;32mif\u001b[0m \u001b[1;32mnot\u001b[0m \u001b[0misinstance\u001b[0m\u001b[1;33m(\u001b[0m\u001b[0mouts\u001b[0m\u001b[1;33m,\u001b[0m \u001b[0mlist\u001b[0m\u001b[1;33m)\u001b[0m\u001b[1;33m:\u001b[0m\u001b[1;33m\u001b[0m\u001b[0m\n\u001b[0;32m    266\u001b[0m           \u001b[0mouts\u001b[0m \u001b[1;33m=\u001b[0m \u001b[1;33m[\u001b[0m\u001b[0mouts\u001b[0m\u001b[1;33m]\u001b[0m\u001b[1;33m\u001b[0m\u001b[0m\n",
      "\u001b[1;32mc:\\users\\ewaisha\\appdata\\local\\programs\\python\\python36\\lib\\site-packages\\tensorflow\\python\\keras\\backend.py\u001b[0m in \u001b[0;36m__call__\u001b[1;34m(self, inputs)\u001b[0m\n\u001b[0;32m   2912\u001b[0m       \u001b[0mself\u001b[0m\u001b[1;33m.\u001b[0m\u001b[0m_make_callable\u001b[0m\u001b[1;33m(\u001b[0m\u001b[0mfeed_arrays\u001b[0m\u001b[1;33m,\u001b[0m \u001b[0mfeed_symbols\u001b[0m\u001b[1;33m,\u001b[0m \u001b[0msymbol_vals\u001b[0m\u001b[1;33m,\u001b[0m \u001b[0msession\u001b[0m\u001b[1;33m)\u001b[0m\u001b[1;33m\u001b[0m\u001b[0m\n\u001b[0;32m   2913\u001b[0m \u001b[1;33m\u001b[0m\u001b[0m\n\u001b[1;32m-> 2914\u001b[1;33m     \u001b[0mfetched\u001b[0m \u001b[1;33m=\u001b[0m \u001b[0mself\u001b[0m\u001b[1;33m.\u001b[0m\u001b[0m_callable_fn\u001b[0m\u001b[1;33m(\u001b[0m\u001b[1;33m*\u001b[0m\u001b[0marray_vals\u001b[0m\u001b[1;33m)\u001b[0m\u001b[1;33m\u001b[0m\u001b[0m\n\u001b[0m\u001b[0;32m   2915\u001b[0m     \u001b[0mself\u001b[0m\u001b[1;33m.\u001b[0m\u001b[0m_call_fetch_callbacks\u001b[0m\u001b[1;33m(\u001b[0m\u001b[0mfetched\u001b[0m\u001b[1;33m[\u001b[0m\u001b[1;33m-\u001b[0m\u001b[0mlen\u001b[0m\u001b[1;33m(\u001b[0m\u001b[0mself\u001b[0m\u001b[1;33m.\u001b[0m\u001b[0m_fetches\u001b[0m\u001b[1;33m)\u001b[0m\u001b[1;33m:\u001b[0m\u001b[1;33m]\u001b[0m\u001b[1;33m)\u001b[0m\u001b[1;33m\u001b[0m\u001b[0m\n\u001b[0;32m   2916\u001b[0m     \u001b[1;32mreturn\u001b[0m \u001b[0mfetched\u001b[0m\u001b[1;33m[\u001b[0m\u001b[1;33m:\u001b[0m\u001b[0mlen\u001b[0m\u001b[1;33m(\u001b[0m\u001b[0mself\u001b[0m\u001b[1;33m.\u001b[0m\u001b[0moutputs\u001b[0m\u001b[1;33m)\u001b[0m\u001b[1;33m]\u001b[0m\u001b[1;33m\u001b[0m\u001b[0m\n",
      "\u001b[1;32mc:\\users\\ewaisha\\appdata\\local\\programs\\python\\python36\\lib\\site-packages\\tensorflow\\python\\client\\session.py\u001b[0m in \u001b[0;36m__call__\u001b[1;34m(self, *args, **kwargs)\u001b[0m\n\u001b[0;32m   1380\u001b[0m           ret = tf_session.TF_SessionRunCallable(\n\u001b[0;32m   1381\u001b[0m               \u001b[0mself\u001b[0m\u001b[1;33m.\u001b[0m\u001b[0m_session\u001b[0m\u001b[1;33m.\u001b[0m\u001b[0m_session\u001b[0m\u001b[1;33m,\u001b[0m \u001b[0mself\u001b[0m\u001b[1;33m.\u001b[0m\u001b[0m_handle\u001b[0m\u001b[1;33m,\u001b[0m \u001b[0margs\u001b[0m\u001b[1;33m,\u001b[0m \u001b[0mstatus\u001b[0m\u001b[1;33m,\u001b[0m\u001b[1;33m\u001b[0m\u001b[0m\n\u001b[1;32m-> 1382\u001b[1;33m               run_metadata_ptr)\n\u001b[0m\u001b[0;32m   1383\u001b[0m         \u001b[1;32mif\u001b[0m \u001b[0mrun_metadata\u001b[0m\u001b[1;33m:\u001b[0m\u001b[1;33m\u001b[0m\u001b[0m\n\u001b[0;32m   1384\u001b[0m           \u001b[0mproto_data\u001b[0m \u001b[1;33m=\u001b[0m \u001b[0mtf_session\u001b[0m\u001b[1;33m.\u001b[0m\u001b[0mTF_GetBuffer\u001b[0m\u001b[1;33m(\u001b[0m\u001b[0mrun_metadata_ptr\u001b[0m\u001b[1;33m)\u001b[0m\u001b[1;33m\u001b[0m\u001b[0m\n",
      "\u001b[1;31mKeyboardInterrupt\u001b[0m: "
     ]
    }
   ],
   "source": [
    "hist = model.fit(x_train, y_train, batch_size = 64, epochs = 500, validation_split = 0.1, shuffle = True, callbacks = [checkpoint, tensorboard, reduce_lr])"
   ]
  },
  {
   "cell_type": "code",
   "execution_count": 20,
   "metadata": {},
   "outputs": [],
   "source": [
    "model.save('Final_Model')"
   ]
  },
  {
   "cell_type": "code",
   "execution_count": null,
   "metadata": {},
   "outputs": [],
   "source": []
  },
  {
   "cell_type": "code",
   "execution_count": 21,
   "metadata": {},
   "outputs": [
    {
     "name": "stdout",
     "output_type": "stream",
     "text": [
      "1501/1501 [==============================] - 6s 4ms/step\n",
      "0.004747967610972065 0.0022302108305420473 0.0051628982663842705 0.006850793735204599\n"
     ]
    }
   ],
   "source": [
    "test_loss, throttle, steer, brake = model.evaluate(x_test, y_test)\n",
    "print(test_loss, throttle, steer, brake)"
   ]
  },
  {
   "cell_type": "code",
   "execution_count": 22,
   "metadata": {},
   "outputs": [
    {
     "name": "stdout",
     "output_type": "stream",
     "text": [
      "1501/1501 [==============================] - 4s 3ms/step\n",
      "0.005082485652581443 0.002458548405886951 0.005166350661097237 0.007622557733296978\n"
     ]
    }
   ],
   "source": [
    "os.chdir(r\"D:\\Hackathon\\Carla\\Windows\\CarlaBuild\\Behavioural_cloning\\models\")\n",
    "model = tf.keras.models.load_model('lowlossmodel', custom_objects={'throttle_mse':throttle_mse,'steer_mse':steer_mse,'brake_mse':brake_mse})\n",
    "test_loss, throttle, steer, brake = model.evaluate(x_test, y_test)\n",
    "print(test_loss, throttle, steer, brake)"
   ]
  },
  {
   "cell_type": "code",
   "execution_count": null,
   "metadata": {},
   "outputs": [],
   "source": []
  },
  {
   "cell_type": "code",
   "execution_count": null,
   "metadata": {},
   "outputs": [],
   "source": []
  },
  {
   "cell_type": "code",
   "execution_count": null,
   "metadata": {},
   "outputs": [],
   "source": []
  },
  {
   "cell_type": "code",
   "execution_count": null,
   "metadata": {},
   "outputs": [],
   "source": [
    "xt, yt = shuffle(X_test, y_test, random_state = 28464)     #Shuffle the dataset\n",
    "y_pred = model.predict(xt)\n",
    "i = 125\n",
    "for i in range(i, i+30):\n",
    "    print(yt[i],\" \", y_pred[i])"
   ]
  }
 ],
 "metadata": {
  "kernelspec": {
   "display_name": "Python 3",
   "language": "python",
   "name": "python3"
  },
  "language_info": {
   "codemirror_mode": {
    "name": "ipython",
    "version": 3
   },
   "file_extension": ".py",
   "mimetype": "text/x-python",
   "name": "python",
   "nbconvert_exporter": "python",
   "pygments_lexer": "ipython3",
   "version": "3.6.6"
  }
 },
 "nbformat": 4,
 "nbformat_minor": 2
}
